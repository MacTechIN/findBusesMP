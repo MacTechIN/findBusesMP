{
 "cells": [
  {
   "cell_type": "markdown",
   "id": "08d9b517",
   "metadata": {},
   "source": [
    "# 1. 스트림릿 패이지 생성 \n",
    "* layout 설정 \n",
    "* "
   ]
  },
  {
   "cell_type": "code",
   "execution_count": 1,
   "id": "70472ef3",
   "metadata": {},
   "outputs": [
    {
     "name": "stderr",
     "output_type": "stream",
     "text": [
      "2023-09-25 10:22:32.436 \n",
      "  \u001b[33m\u001b[1mWarning:\u001b[0m to view this Streamlit app on a browser, run it with the following\n",
      "  command:\n",
      "\n",
      "    streamlit run /Users/sam/anaconda3/envs/WebScraping/lib/python3.10/site-packages/ipykernel_launcher.py [ARGUMENTS]\n"
     ]
    },
    {
     "data": {
      "text/plain": [
       "False"
      ]
     },
     "execution_count": 1,
     "metadata": {},
     "output_type": "execute_result"
    }
   ],
   "source": [
    "#Layout \n",
    "\n",
    "import streamlit as st\n",
    "\n",
    "col1,col2 = st.columns([2,3])\n",
    "# 공간을 2:3 으로 분할하여 col1과 col2라는 이름을 가진 컬럼을 생성합니다.  \n",
    "\n",
    "with col1 :\n",
    "  # column 1 에 담을 내용\n",
    "  st.title('here is column1')\n",
    "with col2 :\n",
    "  # column 2 에 담을 내용\n",
    "  st.title('here is column2')\n",
    "  st.checkbox('this is checkbox1 in col2 ')\n",
    "\n",
    "\n",
    "# with 구문 말고 다르게 사용 가능 \n",
    "col1.subheader(' i am column1  subheader !! ')\n",
    "col2.checkbox('this is checkbox2 in col2 ') \n",
    "#=>위에 with col2: 안의 내용과 같은 기능을합니다"
   ]
  },
  {
   "cell_type": "code",
   "execution_count": null,
   "id": "742533e7",
   "metadata": {},
   "outputs": [],
   "source": [
    "# 이미지 불러오기 \n",
    "import streamlit as st\n",
    "from PIL import Image\n",
    "\n",
    "#PIL 패키지에 이미지 모듈을 통해 이미지 열기 \n",
    "# Image.open('이미지 경로')\n",
    "zarathu_img = Image.open('zarathu.png')\n",
    "\n",
    "col1,col2 = st.columns([2,3])\n",
    "\n",
    "with col1 :\n",
    "  # column 1 에 담을 내용\n",
    "  st.title('here is column1')\n",
    "with col2 :\n",
    "  # column 2 에 담을 내용\n",
    "  st.title('here is column2')\n",
    "  st.checkbox('this is checkbox1 in col2 ')\n",
    "\n",
    "\n",
    "# 컬럼2에 불러온 사진 표시하기\n",
    "col2.image(zarathu_img)\n"
   ]
  },
  {
   "cell_type": "code",
   "execution_count": null,
   "id": "91a1e771",
   "metadata": {},
   "outputs": [],
   "source": [
    "# 3.2 지도표시\n",
    "import numpy as np\n",
    "import pandas as pd \n",
    "\n",
    "#지도 위에 표시될 점 좌표 값을 위도경도에 담습니다 .\n",
    "base_position =  [37.5073423, 127.0572734]\n",
    "#중심점의 위도, 경도 좌표를 리스트에 담습니다.\n",
    "\n",
    "# base_position에, 랜덤으로 생성한 값을 더하여 5개의 좌표를 데이터 프레임으로 생성하였고,\n",
    "# 컬럼명은 위도 :lat  경도 lon으로 지정하였습니다. \n",
    "\n",
    "# map_data 에 정류소 x,y를 추축한 df 를 생성 저장 \n",
    "map_data = pd.DataFrame( \n",
    "    np.random.randn(5, 1) / [20, 20] + base_position , \n",
    "    columns=['lat', 'lon'])\n",
    "# map data 생성 : 위치와 경도 \n",
    "\n",
    "print(map_data)"
   ]
  },
  {
   "cell_type": "code",
   "execution_count": null,
   "id": "a2a73915",
   "metadata": {},
   "outputs": [],
   "source": [
    "st.code('st.map(map_data)')\n",
    "# 웹사이트에 어떤 코드인지 표시해주기 \n",
    "st.subheader('Map of Data ')\n",
    "# 제목 생성 \n",
    "st.map(map_data)\n",
    "# 지도 생성 "
   ]
  },
  {
   "cell_type": "code",
   "execution_count": null,
   "id": "7d6e131d",
   "metadata": {},
   "outputs": [],
   "source": []
  },
  {
   "cell_type": "code",
   "execution_count": null,
   "id": "bc0cd633",
   "metadata": {},
   "outputs": [],
   "source": []
  },
  {
   "cell_type": "code",
   "execution_count": null,
   "id": "500bc80c",
   "metadata": {},
   "outputs": [],
   "source": []
  },
  {
   "cell_type": "code",
   "execution_count": null,
   "id": "6dca1730",
   "metadata": {},
   "outputs": [],
   "source": []
  },
  {
   "cell_type": "code",
   "execution_count": null,
   "id": "f6c742c1",
   "metadata": {},
   "outputs": [],
   "source": []
  },
  {
   "cell_type": "code",
   "execution_count": null,
   "id": "adb744b2",
   "metadata": {},
   "outputs": [],
   "source": []
  },
  {
   "cell_type": "code",
   "execution_count": null,
   "id": "839fad56",
   "metadata": {},
   "outputs": [],
   "source": []
  }
 ],
 "metadata": {
  "kernelspec": {
   "display_name": "Python 3 (ipykernel)",
   "language": "python",
   "name": "python3"
  },
  "language_info": {
   "codemirror_mode": {
    "name": "ipython",
    "version": 3
   },
   "file_extension": ".py",
   "mimetype": "text/x-python",
   "name": "python",
   "nbconvert_exporter": "python",
   "pygments_lexer": "ipython3",
   "version": "3.10.12"
  }
 },
 "nbformat": 4,
 "nbformat_minor": 5
}

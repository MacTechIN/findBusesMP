{
 "cells": [
  {
   "cell_type": "markdown",
   "id": "34d5564f",
   "metadata": {},
   "source": [
    "# 1. 스트림릿 패이지 생성 \n",
    "* layout 설정 \n",
    "* "
   ]
  },
  {
   "cell_type": "code",
   "execution_count": 1,
   "id": "236c9847",
   "metadata": {},
   "outputs": [
    {
     "name": "stderr",
     "output_type": "stream",
     "text": [
      "2023-09-25 10:22:32.436 \n",
      "  \u001b[33m\u001b[1mWarning:\u001b[0m to view this Streamlit app on a browser, run it with the following\n",
      "  command:\n",
      "\n",
      "    streamlit run /Users/sam/anaconda3/envs/WebScraping/lib/python3.10/site-packages/ipykernel_launcher.py [ARGUMENTS]\n"
     ]
    },
    {
     "data": {
      "text/plain": [
       "False"
      ]
     },
     "execution_count": 1,
     "metadata": {},
     "output_type": "execute_result"
    }
   ],
   "source": [
    "#Layout \n",
    "\n",
    "import streamlit as st\n",
    "\n",
    "col1,col2 = st.columns([2,3])\n",
    "# 공간을 2:3 으로 분할하여 col1과 col2라는 이름을 가진 컬럼을 생성합니다.  \n",
    "\n",
    "with col1 :\n",
    "  # column 1 에 담을 내용\n",
    "  st.title('here is column1')\n",
    "with col2 :\n",
    "  # column 2 에 담을 내용\n",
    "  st.title('here is column2')\n",
    "  st.checkbox('this is checkbox1 in col2 ')\n",
    "\n",
    "\n",
    "# with 구문 말고 다르게 사용 가능 \n",
    "col1.subheader(' i am column1  subheader !! ')\n",
    "col2.checkbox('this is checkbox2 in col2 ') \n",
    "#=>위에 with col2: 안의 내용과 같은 기능을합니다"
   ]
  },
  {
   "cell_type": "code",
   "execution_count": null,
   "id": "d4cea179",
   "metadata": {},
   "outputs": [],
   "source": [
    "# 이미지 불러오기 \n",
    "import streamlit as st\n",
    "from PIL import Image\n",
    "\n",
    "#PIL 패키지에 이미지 모듈을 통해 이미지 열기 \n",
    "# Image.open('이미지 경로')\n",
    "zarathu_img = Image.open('zarathu.png')\n",
    "\n",
    "col1,col2 = st.columns([2,3])\n",
    "\n",
    "with col1 :\n",
    "  # column 1 에 담을 내용\n",
    "  st.title('here is column1')\n",
    "with col2 :\n",
    "  # column 2 에 담을 내용\n",
    "  st.title('here is column2')\n",
    "  st.checkbox('this is checkbox1 in col2 ')\n",
    "\n",
    "\n",
    "# 컬럼2에 불러온 사진 표시하기\n",
    "col2.image(zarathu_img)\n"
   ]
  },
  {
   "cell_type": "code",
   "execution_count": null,
   "id": "3a66393e",
   "metadata": {},
   "outputs": [],
   "source": [
    "# 3.2 지도표시\n",
    "import numpy as np\n",
    "import pandas as pd \n",
    "\n",
    "#지도 위에 표시될 점 좌표 값을 위도경도에 담습니다 .\n",
    "base_position =  [37.5073423, 127.0572734]\n",
    "#중심점의 위도, 경도 좌표를 리스트에 담습니다.\n",
    "\n",
    "# base_position에, 랜덤으로 생성한 값을 더하여 5개의 좌표를 데이터 프레임으로 생성하였고,\n",
    "# 컬럼명은 위도 :lat  경도 lon으로 지정하였습니다. \n",
    "\n",
    "# map_data 에 정류소 x,y를 추축한 df 를 생성 저장 \n",
    "map_data = pd.DataFrame( \n",
    "    np.random.randn(5, 1) / [20, 20] + base_position , \n",
    "    columns=['lat', 'lon'])\n",
    "# map data 생성 : 위치와 경도 \n",
    "\n",
    "print(map_data)"
   ]
  },
  {
   "cell_type": "code",
   "execution_count": null,
   "id": "ec8930fe",
   "metadata": {},
   "outputs": [],
   "source": [
    "st.code('st.map(map_data)')\n",
    "# 웹사이트에 어떤 코드인지 표시해주기 \n",
    "st.subheader('Map of Data ')\n",
    "# 제목 생성 \n",
    "st.map(map_data)\n",
    "# 지도 생성 "
   ]
  },
  {
   "cell_type": "code",
   "execution_count": 11,
   "id": "36dc2efc",
   "metadata": {},
   "outputs": [],
   "source": [
    "import pandas as pd\n",
    "import numpy as np"
   ]
  },
  {
   "cell_type": "code",
   "execution_count": 33,
   "id": "f001c227",
   "metadata": {},
   "outputs": [
    {
     "ename": "AxisError",
     "evalue": "axis 1 is out of bounds for array of dimension 1",
     "output_type": "error",
     "traceback": [
      "\u001b[0;31m---------------------------------------------------------------------------\u001b[0m",
      "\u001b[0;31mAxisError\u001b[0m                                 Traceback (most recent call last)",
      "Cell \u001b[0;32mIn[33], line 4\u001b[0m\n\u001b[1;32m      1\u001b[0m np_arr \u001b[38;5;241m=\u001b[39m np\u001b[38;5;241m.\u001b[39marray([\u001b[38;5;241m37.10\u001b[39m,\u001b[38;5;241m127.20\u001b[39m])  \n\u001b[1;32m      2\u001b[0m np_row \u001b[38;5;241m=\u001b[39m np\u001b[38;5;241m.\u001b[39marray ([\u001b[38;5;241m74.5073423\u001b[39m, \u001b[38;5;241m254.0572734\u001b[39m])\n\u001b[0;32m----> 4\u001b[0m result \u001b[38;5;241m=\u001b[39m \u001b[43mnp\u001b[49m\u001b[38;5;241;43m.\u001b[39;49m\u001b[43mappend\u001b[49m\u001b[43m(\u001b[49m\u001b[43mnp_arr\u001b[49m\u001b[43m,\u001b[49m\u001b[43m \u001b[49m\u001b[43mnp_row\u001b[49m\u001b[43m,\u001b[49m\u001b[43m \u001b[49m\u001b[43maxis\u001b[49m\u001b[38;5;241;43m=\u001b[39;49m\u001b[38;5;241;43m1\u001b[39;49m\u001b[43m)\u001b[49m\n\u001b[1;32m      6\u001b[0m \u001b[38;5;28mprint\u001b[39m(result)\n",
      "File \u001b[0;32m~/anaconda3/envs/WebScraping/lib/python3.10/site-packages/numpy/lib/function_base.py:5617\u001b[0m, in \u001b[0;36mappend\u001b[0;34m(arr, values, axis)\u001b[0m\n\u001b[1;32m   5615\u001b[0m     values \u001b[38;5;241m=\u001b[39m ravel(values)\n\u001b[1;32m   5616\u001b[0m     axis \u001b[38;5;241m=\u001b[39m arr\u001b[38;5;241m.\u001b[39mndim\u001b[38;5;241m-\u001b[39m\u001b[38;5;241m1\u001b[39m\n\u001b[0;32m-> 5617\u001b[0m \u001b[38;5;28;01mreturn\u001b[39;00m \u001b[43mconcatenate\u001b[49m\u001b[43m(\u001b[49m\u001b[43m(\u001b[49m\u001b[43marr\u001b[49m\u001b[43m,\u001b[49m\u001b[43m \u001b[49m\u001b[43mvalues\u001b[49m\u001b[43m)\u001b[49m\u001b[43m,\u001b[49m\u001b[43m \u001b[49m\u001b[43maxis\u001b[49m\u001b[38;5;241;43m=\u001b[39;49m\u001b[43maxis\u001b[49m\u001b[43m)\u001b[49m\n",
      "\u001b[0;31mAxisError\u001b[0m: axis 1 is out of bounds for array of dimension 1"
     ]
    }
   ],
   "source": [
    "np_arr = np.array([37.10,127.20])  \n",
    "np_row = np.array ([74.5073423, 254.0572734])\n",
    "\n",
    "result = np.append(np_arr, np_row, axis=1)\n",
    "\n",
    "print(result)"
   ]
  },
  {
   "cell_type": "code",
   "execution_count": 29,
   "id": "ca5b0df8",
   "metadata": {},
   "outputs": [
    {
     "name": "stdout",
     "output_type": "stream",
     "text": [
      "[[1 2 3]\n",
      " [4 5 6]\n",
      " [7 8 9]]\n",
      "[[ 37.5073423 127.0572734]\n",
      " [ 37.8       127.05404  ]]\n"
     ]
    }
   ],
   "source": [
    "arr = np.array([[1,2,3],[4,5,6]])\n",
    "row = np.array([7,8,9])\n",
    "arr = np.append(arr,[row],axis= 0)\n",
    "print(arr)\n",
    "\n",
    "\n",
    "coord_xy = np.array([[37.5073423, 127.0572734],[37.80, 127.05404] ] )\n",
    "\n",
    "print(coord_xy)"
   ]
  },
  {
   "cell_type": "code",
   "execution_count": 22,
   "id": "2c2f3c41",
   "metadata": {},
   "outputs": [
    {
     "ename": "NameError",
     "evalue": "name 'arr1' is not defined",
     "output_type": "error",
     "traceback": [
      "\u001b[0;31m---------------------------------------------------------------------------\u001b[0m",
      "\u001b[0;31mNameError\u001b[0m                                 Traceback (most recent call last)",
      "Cell \u001b[0;32mIn[22], line 1\u001b[0m\n\u001b[0;32m----> 1\u001b[0m df \u001b[38;5;241m=\u001b[39m pd\u001b[38;5;241m.\u001b[39mDataFrame(\u001b[43marr1\u001b[49m, columns\u001b[38;5;241m=\u001b[39m[\u001b[38;5;124m'\u001b[39m\u001b[38;5;124mlat\u001b[39m\u001b[38;5;124m'\u001b[39m, \u001b[38;5;124m'\u001b[39m\u001b[38;5;124mlon\u001b[39m\u001b[38;5;124m'\u001b[39m],)\n\u001b[1;32m      2\u001b[0m \u001b[38;5;28;01mreturn\u001b[39;00m df\n",
      "\u001b[0;31mNameError\u001b[0m: name 'arr1' is not defined"
     ]
    }
   ],
   "source": [
    "    df = pd.DataFrame(arr1, columns=['lat', 'lon'],)\n",
    "    return df "
   ]
  },
  {
   "cell_type": "code",
   "execution_count": 23,
   "id": "c2114267",
   "metadata": {},
   "outputs": [
    {
     "name": "stdout",
     "output_type": "stream",
     "text": [
      "         lat         lon\n",
      "0  37.507342  127.057273\n",
      "1  37.800000  127.054040\n"
     ]
    }
   ],
   "source": [
    "print(arr_to_df(coord_xy))"
   ]
  },
  {
   "cell_type": "code",
   "execution_count": null,
   "id": "2a9c7592",
   "metadata": {},
   "outputs": [],
   "source": []
  },
  {
   "cell_type": "code",
   "execution_count": null,
   "id": "ccf1e6ef",
   "metadata": {},
   "outputs": [],
   "source": []
  },
  {
   "cell_type": "code",
   "execution_count": null,
   "id": "b9e370e4",
   "metadata": {},
   "outputs": [],
   "source": []
  },
  {
   "cell_type": "code",
   "execution_count": null,
   "id": "1b82fa8c",
   "metadata": {},
   "outputs": [],
   "source": []
  },
  {
   "cell_type": "code",
   "execution_count": null,
   "id": "50c9e693",
   "metadata": {},
   "outputs": [],
   "source": []
  }
 ],
 "metadata": {
  "kernelspec": {
   "display_name": "Python 3 (ipykernel)",
   "language": "python",
   "name": "python3"
  },
  "language_info": {
   "codemirror_mode": {
    "name": "ipython",
    "version": 3
   },
   "file_extension": ".py",
   "mimetype": "text/x-python",
   "name": "python",
   "nbconvert_exporter": "python",
   "pygments_lexer": "ipython3",
   "version": "3.10.12"
  }
 },
 "nbformat": 4,
 "nbformat_minor": 5
}
